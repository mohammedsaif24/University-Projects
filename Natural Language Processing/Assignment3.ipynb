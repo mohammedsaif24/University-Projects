{
  "nbformat": 4,
  "nbformat_minor": 0,
  "metadata": {
    "colab": {
      "name": "Assignment3.ipynb",
      "provenance": [],
      "collapsed_sections": []
    },
    "kernelspec": {
      "name": "python3",
      "display_name": "Python 3"
    }
  },
  "cells": [
    {
      "cell_type": "code",
      "metadata": {
        "id": "WfCMJROslIdx",
        "colab_type": "code",
        "colab": {}
      },
      "source": [
        "#preprocess and hyperparameters\n",
        "\n",
        "import matplotlib\n",
        "import matplotlib.pyplot as plt\n",
        "import matplotlib.pyplot as plt1\n",
        "import numpy as np\n",
        "\n",
        "# raw data - setences \n",
        "sentences = [\"he likes cat\",\n",
        "             \"he likes dog\",\n",
        "             \"he likes animal\",\n",
        "             \"dog cat animal\",\n",
        "             \"she likes cat\",\n",
        "             \"she dislikes dog\",\n",
        "             \"cat likes fish\",\n",
        "             \"cat likes milk\",\n",
        "             \"dog likes bone\",\n",
        "             \"dog dislikes fish\",\n",
        "             \"dog likes milk\",\n",
        "             \"she likes movie\",\n",
        "             \"she likes music\",\n",
        "             \"he likes game\",\n",
        "             \"he likes movie\",\n",
        "             \"cat dislikes dog\"]\n",
        "\n",
        "# convert all sentences to unique word list\n",
        "word_sequence = \" \".join(sentences).split()\n",
        "word_list = \" \".join(sentences).split()\n",
        "word_list = list(set(word_list))\n",
        "\n",
        "# make dictionary so that we can be reference each index of unique word\n",
        "word_dict = {w: i for i, w in enumerate(word_list)}\n",
        "\n",
        "# Making window size 1 skip-gram\n",
        "# i.e.) he likes cat\n",
        "#   -> (he, [likes]), (likes,[he, cat]), (cat,[likes])\n",
        "#   -> (he, likes), (likes, he), (likes, cat), (cat, likes)\n",
        "skip_grams = []\n",
        "\n",
        "for i in range(1, len(word_sequence) - 1):\n",
        "    # (context, target) : ([target index - 1, target index + 1], target)\n",
        "    target = word_dict[word_sequence[i]]\n",
        "    context = [word_dict[word_sequence[i - 1]], word_dict[word_sequence[i + 1]]]\n",
        "\n",
        "    # skipgrams - (target, context[0]), (target, context[1])..\n",
        "    for w in context:\n",
        "        skip_grams.append([target, w])\n",
        "\n",
        "# prepare random batch from skip-gram - we do not have enought data so we randomly select data\n",
        "def prepare_batch(data, size):\n",
        "    random_inputs = []\n",
        "    random_labels = []\n",
        "    random_index = np.random.choice(range(len(data)), size, replace=False)\n",
        "\n",
        "    for i in random_index:\n",
        "        input_temp = [0]*voc_size\n",
        "        input_temp[data[i][0]] = 1\n",
        "        random_inputs.append(input_temp)  # target\n",
        "        random_labels.append(data[i][1])  # context word\n",
        "\n",
        "    return np.array(random_inputs), np.array(random_labels)\n",
        "\n",
        "#hyperparameters\n",
        "voc_size = len(word_list)\n",
        "learning_rate = 0.1\n",
        "batch_size = 10\n",
        "embedding_size = 2"
      ],
      "execution_count": 0,
      "outputs": []
    },
    {
      "cell_type": "code",
      "metadata": {
        "id": "f_gPbucGwKOE",
        "colab_type": "code",
        "outputId": "c56694da-8c8e-4593-beef-776f74d799fc",
        "colab": {
          "base_uri": "https://localhost:8080/",
          "height": 191
        }
      },
      "source": [
        "import torch\n",
        "import torch.nn as nn\n",
        "import torch.optim as optim\n",
        "from sklearn.metrics import accuracy_score\n",
        "from torch.autograd import Variable\n",
        "import torch.nn.functional as F\n",
        "\n",
        "#number of neurons in the hidden layer\n",
        "n_hidden_1 = 2\n",
        "\n",
        "class SkipGram(nn.Module):\n",
        "    def __init__(self):\n",
        "        super(SkipGram, self).__init__()\n",
        "        self.linear1 = nn.Linear(voc_size, n_hidden_1, bias = False)\n",
        "        self.linear2 = nn.Linear(n_hidden_1, voc_size, bias = False)\n",
        "\n",
        "    def forward(self, x):\n",
        "        hidden = self.linear1(x) #z1\n",
        "        out = self.linear2(F.relu(hidden)) #zout\n",
        "        return out\n",
        "\n",
        "skip_gram_model = SkipGram()\n",
        "criterion = nn.CrossEntropyLoss() #please note we are using \"CrossEntropyLoss\" here\n",
        "optimiser = optim.SGD(skip_gram_model.parameters(), lr=learning_rate)\n",
        "\n",
        "for epoch in range(5000):\n",
        "\n",
        "    inputs,labels = prepare_batch(skip_grams, batch_size)\n",
        "    inputs_torch = torch.from_numpy(inputs).float()\n",
        "    labels_torch = torch.from_numpy(labels)\n",
        "    \n",
        "    #train the model\n",
        "    skip_gram_model.train()\n",
        "\n",
        "    # 1. zero grad\n",
        "    optimiser.zero_grad()\n",
        "\n",
        "    # 2. forward propagation\n",
        "    outputs = skip_gram_model(inputs_torch)\n",
        "  \n",
        "    # 3. calculate loss\n",
        "    loss = criterion(outputs, labels_torch) # We don't need to calcualte logsoftmax here\n",
        "\n",
        "    # 4. back propagation\n",
        "    loss.backward()\n",
        "    optimiser.step()\n",
        "\n",
        "    if epoch % 500 == 499:\n",
        "        print('Epoch: %d, loss: %.4f' %(epoch + 1, loss))    "
      ],
      "execution_count": 2,
      "outputs": [
        {
          "output_type": "stream",
          "text": [
            "Epoch: 500, loss: 2.4634\n",
            "Epoch: 1000, loss: 2.3737\n",
            "Epoch: 1500, loss: 2.5453\n",
            "Epoch: 2000, loss: 2.2113\n",
            "Epoch: 2500, loss: 2.6329\n",
            "Epoch: 3000, loss: 2.2666\n",
            "Epoch: 3500, loss: 2.2357\n",
            "Epoch: 4000, loss: 2.3403\n",
            "Epoch: 4500, loss: 2.5891\n",
            "Epoch: 5000, loss: 2.4290\n"
          ],
          "name": "stdout"
        }
      ]
    },
    {
      "cell_type": "code",
      "metadata": {
        "id": "X432ghnpLtCT",
        "colab_type": "code",
        "colab": {}
      },
      "source": [
        "#get the weights\n",
        "weight1 = skip_gram_model.linear1.weight"
      ],
      "execution_count": 0,
      "outputs": []
    },
    {
      "cell_type": "code",
      "metadata": {
        "colab_type": "code",
        "outputId": "ce6a538e-aae9-4d14-e5c7-a2d469f1940a",
        "id": "XVUGF_L0L1QV",
        "colab": {
          "base_uri": "https://localhost:8080/",
          "height": 267
        }
      },
      "source": [
        "### Visualise result\n",
        "trained_embeddings = weight1.detach().T.numpy()  \n",
        "\n",
        "for i, label in enumerate(word_list):\n",
        "    x, y = trained_embeddings[i]\n",
        "    # print (label, \" : \", x, \" \" , y)\n",
        "    plt.scatter(x, y)\n",
        "    plt.annotate(label, xy=(x, y), xytext=(5, 2),\n",
        "                 textcoords='offset points', ha='right', va='bottom')\n",
        "\n",
        "plt.show()"
      ],
      "execution_count": 4,
      "outputs": [
        {
          "output_type": "display_data",
          "data": {
            "image/png": "[encoded data removed]",
            "text/plain": [
              "<Figure size 432x288 with 1 Axes>"
            ]
          },
          "metadata": {
            "tags": []
          }
        }
      ]
    }
  ]
}